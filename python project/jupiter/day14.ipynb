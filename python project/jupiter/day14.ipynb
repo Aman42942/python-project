{
 "cells": [
  {
   "cell_type": "code",
   "execution_count": null,
   "id": "3d644f31-41cc-430d-9e14-69d9aa022043",
   "metadata": {},
   "outputs": [],
   "source": [
    "#Cleaning Data\n",
    "# Data Cleaning means fixing bad data in your set.\n",
    "# Bad data coud be:\n",
    "# Empty Cells \n",
    "#DaTA WRONG format data ,Duplicates"
   ]
  },
  {
   "cell_type": "code",
   "execution_count": 1,
   "id": "bbab187d-5569-4784-a841-9a03ee895096",
   "metadata": {},
   "outputs": [],
   "source": [
    "import pandas as pd\n",
    "import numpy as np"
   ]
  },
  {
   "cell_type": "code",
   "execution_count": 2,
   "id": "b251eb5f-dc01-4354-9217-8e9944ec61d7",
   "metadata": {},
   "outputs": [
    {
     "data": {
      "text/html": [
       "<div>\n",
       "<style scoped>\n",
       "    .dataframe tbody tr th:only-of-type {\n",
       "        vertical-align: middle;\n",
       "    }\n",
       "\n",
       "    .dataframe tbody tr th {\n",
       "        vertical-align: top;\n",
       "    }\n",
       "\n",
       "    .dataframe thead th {\n",
       "        text-align: right;\n",
       "    }\n",
       "</style>\n",
       "<table border=\"1\" class=\"dataframe\">\n",
       "  <thead>\n",
       "    <tr style=\"text-align: right;\">\n",
       "      <th></th>\n",
       "      <th>Name</th>\n",
       "      <th>Breed</th>\n",
       "      <th>Color</th>\n",
       "      <th>Height</th>\n",
       "      <th>Weight</th>\n",
       "      <th>Date of Birth</th>\n",
       "    </tr>\n",
       "  </thead>\n",
       "  <tbody>\n",
       "    <tr>\n",
       "      <th>0</th>\n",
       "      <td>Bella</td>\n",
       "      <td>Labrador</td>\n",
       "      <td>Brown</td>\n",
       "      <td>56</td>\n",
       "      <td>25.0</td>\n",
       "      <td>7/1/2013</td>\n",
       "    </tr>\n",
       "    <tr>\n",
       "      <th>1</th>\n",
       "      <td>Charlie</td>\n",
       "      <td>Poodle</td>\n",
       "      <td>Black</td>\n",
       "      <td>NaN</td>\n",
       "      <td>23.0</td>\n",
       "      <td>9/16/2016</td>\n",
       "    </tr>\n",
       "    <tr>\n",
       "      <th>2</th>\n",
       "      <td>Lucy</td>\n",
       "      <td>Chow</td>\n",
       "      <td>Chow Brown</td>\n",
       "      <td>46</td>\n",
       "      <td>22.0</td>\n",
       "      <td>8/25/2014</td>\n",
       "    </tr>\n",
       "    <tr>\n",
       "      <th>3</th>\n",
       "      <td>Cooper</td>\n",
       "      <td>Schnauzer</td>\n",
       "      <td>Gray</td>\n",
       "      <td>49</td>\n",
       "      <td>NaN</td>\n",
       "      <td>12/11/2011</td>\n",
       "    </tr>\n",
       "    <tr>\n",
       "      <th>4</th>\n",
       "      <td>Max</td>\n",
       "      <td>Labrador</td>\n",
       "      <td>Black</td>\n",
       "      <td>dkdk</td>\n",
       "      <td>29.0</td>\n",
       "      <td>1/20/2017</td>\n",
       "    </tr>\n",
       "  </tbody>\n",
       "</table>\n",
       "</div>"
      ],
      "text/plain": [
       "      Name      Breed       Color Height  Weight Date of Birth\n",
       "0    Bella   Labrador       Brown     56    25.0      7/1/2013\n",
       "1  Charlie     Poodle       Black    NaN    23.0     9/16/2016\n",
       "2     Lucy       Chow  Chow Brown     46    22.0     8/25/2014\n",
       "3   Cooper  Schnauzer        Gray     49     NaN    12/11/2011\n",
       "4      Max   Labrador       Black   dkdk    29.0     1/20/2017"
      ]
     },
     "execution_count": 2,
     "metadata": {},
     "output_type": "execute_result"
    }
   ],
   "source": [
    "df = pd.read_csv(\"pets.csv\")\n",
    "df.head()"
   ]
  },
  {
   "cell_type": "code",
   "execution_count": null,
   "id": "898bcb4b-26e4-4a94-a0c8-a10689d669fa",
   "metadata": {},
   "outputs": [],
   "source": [
    "df = pd.read_csv(\"pets.csv\")\n",
    "df"
   ]
  },
  {
   "cell_type": "code",
   "execution_count": null,
   "id": "6819cd95",
   "metadata": {},
   "outputs": [],
   "source": [
    "df.columns"
   ]
  },
  {
   "cell_type": "code",
   "execution_count": null,
   "id": "44eaca26",
   "metadata": {},
   "outputs": [],
   "source": []
  }
 ],
 "metadata": {
  "kernelspec": {
   "display_name": "Python 3 (ipykernel)",
   "language": "python",
   "name": "python3"
  },
  "language_info": {
   "codemirror_mode": {
    "name": "ipython",
    "version": 3
   },
   "file_extension": ".py",
   "mimetype": "text/x-python",
   "name": "python",
   "nbconvert_exporter": "python",
   "pygments_lexer": "ipython3",
   "version": "3.11.7"
  }
 },
 "nbformat": 4,
 "nbformat_minor": 5
}
